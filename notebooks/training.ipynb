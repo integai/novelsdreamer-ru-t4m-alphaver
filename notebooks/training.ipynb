{
 "cells": [
  {
   "cell_type": "code",
   "execution_count": 1,
   "metadata": {},
   "outputs": [
    {
     "name": "stderr",
     "output_type": "stream",
     "text": [
      "/Users/oblivisheee/miniconda3/lib/python3.11/site-packages/requests/__init__.py:102: RequestsDependencyWarning: urllib3 (1.26.18) or chardet (5.2.0)/charset_normalizer (2.0.4) doesn't match a supported version!\n",
      "  warnings.warn(\"urllib3 ({}) or chardet ({})/charset_normalizer ({}) doesn't match a supported \"\n"
     ]
    }
   ],
   "source": [
    "#Initialize dependencies\n",
    "import tensorflow as tf\n",
    "import os\n",
    "BASE_FOLDER = '/Users/oblivisheee/Documents/novelsdreamer-ru-t4m/'\n",
    "os.chdir(BASE_FOLDER)\n",
    "%store -r\n",
    "from modules.transformer_custom import Transformer\n",
    "from modules.regularization import RegularizedDenseLayer\n",
    "from modules.data_preprocess import DataGenerator\n"
   ]
  },
  {
   "cell_type": "code",
   "execution_count": 2,
   "metadata": {},
   "outputs": [
    {
     "name": "stdout",
     "output_type": "stream",
     "text": [
      "Train Russian data info: 1 samples\n",
      "Train English data info: 1 samples\n",
      "Valid Russian data info: 1 samples\n",
      "Valid English data info: 1 samples\n"
     ]
    }
   ],
   "source": [
    "train_russian_dir = 'dataset/train/russian'\n",
    "train_english_dir = 'dataset/train/english'\n",
    "valid_russian_dir = 'dataset/valid/russian'\n",
    "valid_english_dir = 'dataset/valid/english'\n",
    "\n",
    "data_gen = DataGenerator(train_russian_dir, train_english_dir, valid_russian_dir, valid_english_dir)\n",
    "train_russian_data, train_english_data, valid_russian_data, valid_english_data = data_gen.generate()\n",
    "\n",
    "train_dataset = tf.data.Dataset.from_tensor_slices((train_russian_data, train_english_data))\n",
    "valid_dataset = tf.data.Dataset.from_tensor_slices((valid_russian_data, valid_english_data))\n",
    "\n"
   ]
  },
  {
   "attachments": {},
   "cell_type": "markdown",
   "metadata": {},
   "source": [
    "# Config training"
   ]
  },
  {
   "cell_type": "code",
   "execution_count": 3,
   "metadata": {},
   "outputs": [
    {
     "name": "stderr",
     "output_type": "stream",
     "text": [
      "WARNING:absl:At this time, the v2.11+ optimizer `tf.keras.optimizers.Adam` runs slowly on M1/M2 Macs, please use the legacy Keras optimizer instead, located at `tf.keras.optimizers.legacy.Adam`.\n",
      "WARNING:absl:There is a known slowdown when using v2.11+ Keras optimizers on M1/M2 Macs. Falling back to the legacy Keras optimizer, i.e., `tf.keras.optimizers.legacy.Adam`.\n"
     ]
    }
   ],
   "source": [
    "# Configure the Transformer layer\n",
    "\n",
    "embedding_layer = tf.keras.layers.Embedding(8500, 512)\n",
    "regularized_layer = RegularizedDenseLayer(512)\n",
    "\n",
    "model = Transformer(num_layers=6, d_model=512, num_heads=8, dff=2048,\n",
    "                          input_vocab_size=8500, target_vocab_size=8500, pe_input=10000,\n",
    "                          pe_target=10000, rate=0.1, embedding=embedding_layer, regularized_layer=regularized_layer)\n",
    "\n",
    "loss_object = tf.keras.losses.SparseCategoricalCrossentropy(from_logits=True, reduction='auto')\n",
    "optimizer = tf.keras.optimizers.Adam(name='Adam',learning_rate=0.001,\n",
    "                                     epsilon=1e-8, amsgrad=True,\n",
    "                                     beta_1=0.9, beta_2=0.999)\n",
    "\n",
    "metrics = [tf.keras.metrics.SparseCategoricalAccuracy(name='accuracy'), \n",
    "           tf.keras.metrics.MeanSquaredError(name='mean_squared_error'), \n",
    "           tf.keras.metrics.Precision(thresholds=0.5, name='precision'),]\n",
    "\n",
    "\n",
    "model.compile(optimizer=optimizer, loss=loss_object, metrics=metrics)"
   ]
  },
  {
   "cell_type": "code",
   "execution_count": null,
   "metadata": {},
   "outputs": [],
   "source": []
  },
  {
   "attachments": {},
   "cell_type": "markdown",
   "metadata": {},
   "source": [
    "# Start training"
   ]
  },
  {
   "cell_type": "code",
   "execution_count": 4,
   "metadata": {},
   "outputs": [
    {
     "ename": "KeyError",
     "evalue": "'logs_path'",
     "output_type": "error",
     "traceback": [
      "\u001b[0;31m---------------------------------------------------------------------------\u001b[0m",
      "\u001b[0;31mKeyError\u001b[0m                                  Traceback (most recent call last)",
      "\u001b[1;32m/Users/oblivisheee/Documents/novelsdreamer-ru-t4m/notebooks/training.ipynb Cell 7\u001b[0m line \u001b[0;36m4\n\u001b[1;32m      <a href='vscode-notebook-cell:/Users/oblivisheee/Documents/novelsdreamer-ru-t4m/notebooks/training.ipynb#X10sZmlsZQ%3D%3D?line=1'>2</a>\u001b[0m session_name \u001b[39m=\u001b[39m \u001b[39m'\u001b[39m\u001b[39mnovelsdreamer-test\u001b[39m\u001b[39m'\u001b[39m\n\u001b[1;32m      <a href='vscode-notebook-cell:/Users/oblivisheee/Documents/novelsdreamer-ru-t4m/notebooks/training.ipynb#X10sZmlsZQ%3D%3D?line=2'>3</a>\u001b[0m epochs \u001b[39m=\u001b[39m \u001b[39m10\u001b[39m\n\u001b[0;32m----> <a href='vscode-notebook-cell:/Users/oblivisheee/Documents/novelsdreamer-ru-t4m/notebooks/training.ipynb#X10sZmlsZQ%3D%3D?line=3'>4</a>\u001b[0m model\u001b[39m.\u001b[39mfit_model(inp_dataset\u001b[39m=\u001b[39mtrain_english_data, tar_dataset\u001b[39m=\u001b[39mtrain_russian_data, valid_inp_dataset\u001b[39m=\u001b[39mvalid_english_data, valid_tar_dataset\u001b[39m=\u001b[39mvalid_russian_data, epochs\u001b[39m=\u001b[39mepochs,\n\u001b[1;32m      <a href='vscode-notebook-cell:/Users/oblivisheee/Documents/novelsdreamer-ru-t4m/notebooks/training.ipynb#X10sZmlsZQ%3D%3D?line=4'>5</a>\u001b[0m                          session_name\u001b[39m=\u001b[39msession_name,\n\u001b[1;32m      <a href='vscode-notebook-cell:/Users/oblivisheee/Documents/novelsdreamer-ru-t4m/notebooks/training.ipynb#X10sZmlsZQ%3D%3D?line=5'>6</a>\u001b[0m                          batch_size\u001b[39m=\u001b[39m\u001b[39m64\u001b[39m, gradient_accumulation_steps\u001b[39m=\u001b[39m\u001b[39m5\u001b[39m,\n\u001b[1;32m      <a href='vscode-notebook-cell:/Users/oblivisheee/Documents/novelsdreamer-ru-t4m/notebooks/training.ipynb#X10sZmlsZQ%3D%3D?line=6'>7</a>\u001b[0m                          shuffle\u001b[39m=\u001b[39m\u001b[39mTrue\u001b[39;00m,\n\u001b[1;32m      <a href='vscode-notebook-cell:/Users/oblivisheee/Documents/novelsdreamer-ru-t4m/notebooks/training.ipynb#X10sZmlsZQ%3D%3D?line=7'>8</a>\u001b[0m                          save_model_each_epoch\u001b[39m=\u001b[39m\u001b[39mTrue\u001b[39;00m,\n\u001b[1;32m      <a href='vscode-notebook-cell:/Users/oblivisheee/Documents/novelsdreamer-ru-t4m/notebooks/training.ipynb#X10sZmlsZQ%3D%3D?line=8'>9</a>\u001b[0m                          model_name\u001b[39m=\u001b[39m\u001b[39m'\u001b[39m\u001b[39mnovelsdreamer-ru-t4m\u001b[39m\u001b[39m'\u001b[39m)\n",
      "File \u001b[0;32m~/Documents/novelsdreamer-ru-t4m/modules/transformer_custom.py:229\u001b[0m, in \u001b[0;36mTransformer.fit_model\u001b[0;34m(self, inp_dataset, tar_dataset, valid_inp_dataset, valid_tar_dataset, epochs, model_name, save_model_each_epoch, shuffle, session_name, save_path_epoch, final_save_path, batch_size, gradient_accumulation_steps)\u001b[0m\n\u001b[1;32m    227\u001b[0m \u001b[39m# Create a log file\u001b[39;00m\n\u001b[1;32m    228\u001b[0m log_file_name \u001b[39m=\u001b[39m \u001b[39mf\u001b[39m\u001b[39m'\u001b[39m\u001b[39mtraining_logs_\u001b[39m\u001b[39m{\u001b[39;00msession_name\u001b[39m}\u001b[39;00m\u001b[39m.txt\u001b[39m\u001b[39m'\u001b[39m \u001b[39mif\u001b[39;00m session_name \u001b[39melse\u001b[39;00m \u001b[39m'\u001b[39m\u001b[39mtraining_logs.txt\u001b[39m\u001b[39m'\u001b[39m\n\u001b[0;32m--> 229\u001b[0m log_file_path \u001b[39m=\u001b[39m os\u001b[39m.\u001b[39mpath\u001b[39m.\u001b[39mjoin(metadata_session[\u001b[39m'\u001b[39m\u001b[39mlogs_path\u001b[39m\u001b[39m'\u001b[39m], log_file_name) \u001b[39mif\u001b[39;00m metadata_session \u001b[39melse\u001b[39;00m log_file_name\n\u001b[1;32m    230\u001b[0m log_file \u001b[39m=\u001b[39m \u001b[39mopen\u001b[39m(log_file_path, \u001b[39m\"\u001b[39m\u001b[39mw\u001b[39m\u001b[39m\"\u001b[39m)\n\u001b[1;32m    232\u001b[0m \u001b[39mwith\u001b[39;00m \u001b[39mopen\u001b[39m(log_file_path, \u001b[39m'\u001b[39m\u001b[39ma\u001b[39m\u001b[39m'\u001b[39m) \u001b[39mas\u001b[39;00m log_file:\n",
      "\u001b[0;31mKeyError\u001b[0m: 'logs_path'"
     ]
    }
   ],
   "source": [
    "os.environ['TF_CPP_MIN_LOG_LEVEL'] = '3'\n",
    "session_name = 'novelsdreamer-test'\n",
    "epochs = 10\n",
    "model.fit_model(inp_dataset=train_english_data, tar_dataset=train_russian_data, valid_inp_dataset=valid_english_data, valid_tar_dataset=valid_russian_data, epochs=epochs,\n",
    "                         session_name=session_name,\n",
    "                         batch_size=64, gradient_accumulation_steps=5,\n",
    "                         shuffle=True,\n",
    "                         save_model_each_epoch=True,\n",
    "                         model_name='novelsdreamer-ru-t4m')"
   ]
  }
 ],
 "metadata": {
  "kernelspec": {
   "display_name": "base",
   "language": "python",
   "name": "python3"
  },
  "language_info": {
   "codemirror_mode": {
    "name": "ipython",
    "version": 3
   },
   "file_extension": ".py",
   "mimetype": "text/x-python",
   "name": "python",
   "nbconvert_exporter": "python",
   "pygments_lexer": "ipython3",
   "version": "3.11.5"
  },
  "orig_nbformat": 4
 },
 "nbformat": 4,
 "nbformat_minor": 2
}
