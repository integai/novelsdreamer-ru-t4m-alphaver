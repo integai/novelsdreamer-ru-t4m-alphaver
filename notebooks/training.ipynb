{
 "cells": [
  {
   "cell_type": "code",
   "execution_count": null,
   "metadata": {},
   "outputs": [],
   "source": [
    "#Initialize dependencies\n",
    "import tensorflow as tf\n",
    "import os\n",
    "BASE_FOLDER = '/Users/oblivisheee/Documents/novelsdreamer-ru-t4m/'\n",
    "os.chdir(BASE_FOLDER)\n",
    "%store -r\n",
    "from modules.transformer_custom import Transformer\n",
    "from modules.regularization import RegularizedDenseLayer\n",
    "from modules.session import SessionCreator\n",
    "#from modules.data_preprocessing import Data\n"
   ]
  },
  {
   "cell_type": "code",
   "execution_count": null,
   "metadata": {},
   "outputs": [],
   "source": [
    "from modules.data_preprocess import DataGenerator\n",
    "\n",
    "train_dir = 'path/to/train/data'\n",
    "valid_dir = 'path/to/valid/data'\n",
    "\n",
    "data_gen = DataGenerator(train_dir, valid_dir)\n",
    "train_data, valid_data = data_gen.generate()\n",
    "\n",
    "train_dataset = tf.data.Dataset.from_tensor_slices(train_data)\n",
    "valid_dataset = tf.data.Dataset.from_tensor_slices(valid_data)\n",
    "\n"
   ]
  },
  {
   "attachments": {},
   "cell_type": "markdown",
   "metadata": {},
   "source": [
    "# Config training"
   ]
  },
  {
   "cell_type": "code",
   "execution_count": null,
   "metadata": {},
   "outputs": [],
   "source": [
    "# Configure the Transformer layer\n",
    "\n",
    "embedding_layer = tf.keras.layers.Embedding(8500, 512)\n",
    "regularized_layer = RegularizedDenseLayer(512)\n",
    "\n",
    "model = Transformer(num_layers=6, d_model=512, num_heads=8, dff=2048,\n",
    "                          input_vocab_size=8500, target_vocab_size=8500, pe_input=10000,\n",
    "                          pe_target=10000, rate=0.1, embedding=embedding_layer, regularized_layer=regularized_layer)\n",
    "\n",
    "loss_object = tf.keras.losses.SparseCategoricalCrossentropy(from_logits=True, reduction='auto')\n",
    "optimizer = tf.keras.optimizers.Adam(name='Adam',learning_rate=0.001,\n",
    "                                     epsilon=1e-8, amsgrad=True,\n",
    "                                     beta_1=0.9, beta_2=0.999)\n",
    "\n",
    "metrics = [tf.keras.metrics.SparseCategoricalAccuracy(name='accuracy'), \n",
    "           tf.keras.metrics.MeanSquaredError(name='mean_squared_error'), \n",
    "           tf.keras.metrics.Precision(thresholds=0.5, name='precision'),]\n",
    "\n",
    "\n",
    "model.compile(optimizer=optimizer, loss=loss_object, metrics=metrics)"
   ]
  },
  {
   "cell_type": "code",
   "execution_count": null,
   "metadata": {},
   "outputs": [],
   "source": []
  },
  {
   "attachments": {},
   "cell_type": "markdown",
   "metadata": {},
   "source": [
    "# Start training"
   ]
  },
  {
   "cell_type": "code",
   "execution_count": null,
   "metadata": {},
   "outputs": [],
   "source": [
    "os.environ['TF_CPP_MIN_LOG_LEVEL'] = '3'\n",
    "epochs = 10\n",
    "model.fit_model(inp_dataset=train_dataset, tar_dataset=train_dataset, valid_inp_dataset=valid_dataset, valid_tar_dataset=valid_dataset, epochs=epochs,\n",
    "                         session_name=session_name,\n",
    "                         batch_size=64, gradient_accumulation_steps=5,\n",
    "                         shuffle=True,\n",
    "                         save_model_each_epoch=True,\n",
    "                         model_name='novelsdreamer-ru-t4m')"
   ]
  }
 ],
 "metadata": {
  "kernelspec": {
   "display_name": "base",
   "language": "python",
   "name": "python3"
  },
  "language_info": {
   "codemirror_mode": {
    "name": "ipython",
    "version": 3
   },
   "file_extension": ".py",
   "mimetype": "text/x-python",
   "name": "python",
   "nbconvert_exporter": "python",
   "pygments_lexer": "ipython3",
   "version": "3.11.5"
  },
  "orig_nbformat": 4
 },
 "nbformat": 4,
 "nbformat_minor": 2
}
