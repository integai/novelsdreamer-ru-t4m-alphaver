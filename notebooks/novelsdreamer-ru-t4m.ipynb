{
 "cells": [
  {
   "cell_type": "code",
   "execution_count": null,
   "metadata": {},
   "outputs": [],
   "source": [
    "#Initialize dependencies\n",
    "import tensorflow as tf\n",
    "import os\n",
    "import matplotlib.pyplot as plt\n",
    "import numpy as np\n",
    "BASE_FOLDER = '/Users/oblivisheee/Documents/GitHub/novelsdreamer-ru-t4m/'\n",
    "os.chdir(BASE_FOLDER)\n",
    "from modules.transformer_custom import Transformer\n",
    "from modules.regularization import RegularizedDenseLayer\n",
    "from modules.create_config import transformer_config, metrics_config\n",
    "from modules.datagen import DataGenerator\n",
    "from modules.inference import translate\n",
    "#   @tf.keras.mixed_precision.experimental.policy('mixed_float16') # i'll return later"
   ]
  },
  {
   "cell_type": "code",
   "execution_count": null,
   "metadata": {},
   "outputs": [],
   "source": [
    "session_name='novelsdreamer_test_2'"
   ]
  },
  {
   "attachments": {},
   "cell_type": "markdown",
   "metadata": {},
   "source": [
    "# Config training"
   ]
  },
  {
   "cell_type": "code",
   "execution_count": null,
   "metadata": {},
   "outputs": [],
   "source": [
    "# Configure the Transformer layer\n",
    "config = transformer_config()\n",
    "config_metrics = metrics_config()\n",
    "\n",
    "embedding_layer = tf.keras.layers.Embedding(config[\"input_vocab_size\"], config[\"d_model\"])\n",
    "regularized_layer = RegularizedDenseLayer(config[\"d_model\"])\n",
    "\n",
    "model = Transformer(config[\"num_layers\"], config[\"d_model\"], config[\"num_heads\"], config[\"dff\"],\n",
    "                          config[\"input_vocab_size\"], config[\"input_vocab_size\"], pe_input=config[\"maximum_position_encoding\"],\n",
    "                          pe_target=config[\"maximum_position_encoding\"], rate=config[\"dropout_rate\"], embedding=embedding_layer, regularized_layer=regularized_layer)\n",
    "\n",
    "loss_object = tf.keras.losses.SparseCategoricalCrossentropy(from_logits=True, reduction='auto')\n",
    "optimizer = tf.keras.optimizers.legacy.Adam(name='Adam',learning_rate=0.001,\n",
    "                                     epsilon=1e-8, amsgrad=True,\n",
    "                                     beta_1=0.9, beta_2=0.999)\n",
    "\n",
    "metrics = [tf.keras.metrics.SparseCategoricalAccuracy(name=config_metrics['accuracy_set']), \n",
    "           tf.keras.metrics.MeanSquaredError(name=config_metrics['mean_sq_error']), \n",
    "           tf.keras.metrics.Precision(thresholds=config_metrics['thresholds'], name=config_metrics['precision']),]\n",
    "\n",
    "\n",
    "model.compile(optimizer=optimizer, loss=loss_object, metrics=metrics)"
   ]
  },
  {
   "cell_type": "code",
   "execution_count": null,
   "metadata": {},
   "outputs": [],
   "source": [
    "\"\"\"MAIN_DATASET_DIR = 'dataset'\n",
    "TRAIN_DATASET_DIR = os.path.join(MAIN_DATASET_DIR, 'train')\n",
    "VALID_DATASET_DIR = os.path.join(MAIN_DATASET_DIR, 'valid')\n",
    "\n",
    "datagen = DataGenerator(train_dir=TRAIN_DATASET_DIR, valid_dir=VALID_DATASET_DIR)\n",
    "(train_english, train_russian), (valid_english, valid_russian) = datagen.generate()\"\"\""
   ]
  },
  {
   "attachments": {},
   "cell_type": "markdown",
   "metadata": {},
   "source": [
    "# Start training"
   ]
  },
  {
   "cell_type": "code",
   "execution_count": null,
   "metadata": {},
   "outputs": [],
   "source": [
    "os.environ['TF_CPP_MIN_LOG_LEVEL'] = '3'\n",
    "epochs = 10\n",
    "model.fit_model(train_english=train_english, \n",
    "                         train_russian=train_russian,\n",
    "                         valid_english=valid_english,\n",
    "                         valid_russian=valid_russian,\n",
    "                         epochs=epochs,\n",
    "                         session_name=session_name,\n",
    "                         batch_size=64, gradient_accumulation_steps=5,\n",
    "                         shuffle=True,\n",
    "                         save_model_each_epoch=True,\n",
    "                         model_name='novelsdreamer-ru-t4m')"
   ]
  },
  {
   "cell_type": "code",
   "execution_count": null,
   "metadata": {},
   "outputs": [],
   "source": [
    "model.load_weights('novelsdreamer_test_2/results/final_weights/novelsdreamer-ru-t4m.h5')\n",
    "translated_text, attention_weights = translate(model=model, text=\"Hello world\", max_length=20)\n",
    "print(translated_text)\n"
   ]
  }
 ],
 "metadata": {
  "kernelspec": {
   "display_name": "base",
   "language": "python",
   "name": "python3"
  },
  "language_info": {
   "codemirror_mode": {
    "name": "ipython",
    "version": 3
   },
   "file_extension": ".py",
   "mimetype": "text/x-python",
   "name": "python",
   "nbconvert_exporter": "python",
   "pygments_lexer": "ipython3",
   "version": "3.11.5"
  },
  "orig_nbformat": 4
 },
 "nbformat": 4,
 "nbformat_minor": 2
}
